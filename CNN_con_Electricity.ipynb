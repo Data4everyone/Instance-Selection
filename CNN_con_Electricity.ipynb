{
  "nbformat": 4,
  "nbformat_minor": 0,
  "metadata": {
    "colab": {
      "provenance": [],
      "collapsed_sections": []
    },
    "kernelspec": {
      "name": "python3",
      "display_name": "Python 3"
    },
    "language_info": {
      "name": "python"
    }
  },
  "cells": [
    {
      "cell_type": "code",
      "execution_count": 4,
      "metadata": {
        "colab": {
          "base_uri": "https://localhost:8080/",
          "height": 768
        },
        "id": "NbMJFeQ5yTJb",
        "outputId": "ef4e845d-c1d2-4000-f2b6-a705650a28ad"
      },
      "outputs": [
        {
          "output_type": "stream",
          "name": "stdout",
          "text": [
            "          date  day    period  nswprice  nswdemand  vicprice  vicdemand  \\\n",
            "0      0.00000    2  0.021277  0.051699   0.415055  0.003467   0.422915   \n",
            "1      0.00000    2  0.234043  0.049868   0.212437  0.003467   0.422915   \n",
            "2      0.00000    2  0.468085  0.044374   0.513984  0.003467   0.422915   \n",
            "3      0.00000    2  0.574468  0.044374   0.491669  0.003467   0.422915   \n",
            "4      0.00000    2  0.936170  0.056443   0.404790  0.003467   0.422915   \n",
            "...        ...  ...       ...       ...        ...       ...        ...   \n",
            "33979  0.91580    7  0.659574  0.053441   0.341119  0.003671   0.308907   \n",
            "33980  0.91580    7  0.744681  0.053441   0.345730  0.003668   0.312015   \n",
            "33981  0.00938    5  0.340426  0.041732   0.715115  0.003467   0.422915   \n",
            "33982  0.91580    7  0.914894  0.044224   0.340672  0.003033   0.255049   \n",
            "33983  0.91580    7  1.000000  0.050679   0.288753  0.003542   0.355256   \n",
            "\n",
            "       transfer class  \n",
            "0      0.414912    UP  \n",
            "1      0.414912    UP  \n",
            "2      0.414912    UP  \n",
            "3      0.414912    UP  \n",
            "4      0.414912    UP  \n",
            "...         ...   ...  \n",
            "33979  0.363596  DOWN  \n",
            "33980  0.385088  DOWN  \n",
            "33981  0.414912  DOWN  \n",
            "33982  0.405263  DOWN  \n",
            "33983  0.231140  DOWN  \n",
            "\n",
            "[33984 rows x 9 columns]\n",
            "Counter({'DOWN': 19557, 'UP': 14427})\n",
            "Counter({'DOWN': 19557, 'UP': 14427})\n"
          ]
        },
        {
          "output_type": "display_data",
          "data": {
            "text/plain": [
              "<Figure size 432x288 with 1 Axes>"
            ],
            "image/png": "[encoded data removed]"
          },
          "metadata": {
            "needs_background": "light"
          }
        }
      ],
      "source": [
        "from matplotlib import pyplot\n",
        "from numpy import where\n",
        "from collections import Counter\n",
        "from sklearn.datasets import make_classification\n",
        "from imblearn.under_sampling import CondensedNearestNeighbour\n",
        "import pandas as pd\n",
        "\n",
        "\n",
        "#define dataset\n",
        "#X, y = make_classification(n_samples=10000, n_features=2, n_redundant=0,n_clusters_per_class=1, weights=[0.99], flip_y=0, random_state=2)\n",
        "url = \"https://raw.githubusercontent.com/Ripsur/Instance-Selection/Inicio/Datasets/%5BCSV%5DTrain_Elec.csv\"\n",
        "Elec = pd.read_csv(url)\n",
        "print(Elec)\n",
        "X = Elec.iloc[:, 0:7].values\n",
        "y = Elec.iloc[:, 8].values\n",
        "\n",
        "\n",
        "\n",
        "#summarize class distribution \n",
        "counter = Counter(y)\n",
        "print(counter)\n",
        "\n",
        "#define the undersampling method\n",
        "#undersample = CondensedNearestNeighbour(n_neighbors=1)\n",
        "\n",
        "#transform the dataset\n",
        "#X, y = undersample.fit_resample(X, y)\n",
        "\n",
        "#summarize the new class distribution after CNN\n",
        "counter = Counter(y)\n",
        "print(counter)\n",
        "\n",
        "#scatter plot of examples by class label\n",
        "for label, _ in counter.items():\n",
        "    row_ix = where(y == label)[0]\n",
        "    pyplot.scatter(X[row_ix, 0], X[row_ix, 1], label=str(label))\n",
        "pyplot.legend()\n",
        "pyplot.show()"
      ]
    }
  ]
}